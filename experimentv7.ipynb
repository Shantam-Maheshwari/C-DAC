{
 "cells": [
  {
   "cell_type": "code",
   "execution_count": null,
   "metadata": {},
   "outputs": [],
   "source": [
    "import cv2\n",
    "import numpy as np\n",
    "import glob\n",
    "import matplotlib.pyplot as plt\n",
    "import matplotlib.image as mpimg\n",
    "import math\n",
    "import csv"
   ]
  },
  {
   "cell_type": "code",
   "execution_count": null,
   "metadata": {},
   "outputs": [],
   "source": [
    "# function to load image as np array\n",
    "def load_image(addr):\n",
    "    img = cv2.imread(addr, 0) \n",
    "    img = cv2.resize(img, (224,224))\n",
    "    img = img.astype(np.int32)\n",
    "    img = img//32\n",
    "    return img"
   ]
  },
  {
   "cell_type": "code",
   "execution_count": null,
   "metadata": {},
   "outputs": [],
   "source": [
    "# returns count of exact matches \n",
    "def score(left_eye, right_eye):\n",
    "    sum = 0\n",
    "    for x in range(25): # x is the vertical distance\n",
    "        for y in range(25): # y is the horizontal distance\n",
    "            if left_eye[x,y] == right_eye[x,24-y]:\n",
    "                sum += 1\n",
    "    return sum"
   ]
  },
  {
   "cell_type": "code",
   "execution_count": null,
   "metadata": {},
   "outputs": [],
   "source": [
    "def first_run():\n",
    "    main_count = 0\n",
    "    for i in range(0, 200): \n",
    "        for j in range(0, 130):\n",
    "            left_eye = img[i:i+25, j:j+25]\n",
    "            left_values = np.unique(left_eye)\n",
    "            if np.size(left_values) == n:\n",
    "                for dist in range(45, 70):\n",
    "                    right_eye = img[i:i+25, j+dist:j+dist+25]\n",
    "                    if np.array_equal(left_values, np.unique(right_eye)):\n",
    "                        count = score(left_eye, right_eye)\n",
    "                        if count > main_count:\n",
    "                            main_count = count\n",
    "                            print([i,j], [i,j+dist], count)\n",
    "                            \n",
    "                            # storing the result\n",
    "                            results[0] = [[i,j],[i,j+dist]]"
   ]
  },
  {
   "cell_type": "code",
   "execution_count": null,
   "metadata": {},
   "outputs": [],
   "source": [
    "def second_run():\n",
    "    main_count = 0\n",
    "    for i in range(0, 200): \n",
    "        for j in range(0, 130):\n",
    "            if math.sqrt( (results[0][0][0]-i)**2 + (results[0][0][1]-j)**2 ) > dt:\n",
    "                left_eye = img[i:i+25, j:j+25]\n",
    "                left_values = np.unique(left_eye)\n",
    "                if np.size(left_values) == n:\n",
    "                    for dist in range(45, 70):\n",
    "                        right_eye = img[i:i+25, j+dist:j+dist+25]\n",
    "                        if np.array_equal(left_values, np.unique(right_eye)):\n",
    "                            count = score(left_eye, right_eye)\n",
    "                            if count > main_count:\n",
    "                                main_count = count\n",
    "                                print([i,j], [i,j+dist], count)\n",
    "\n",
    "                                # storing the result\n",
    "                                results[1] = [[i,j],[i,j+dist]]"
   ]
  },
  {
   "cell_type": "code",
   "execution_count": null,
   "metadata": {},
   "outputs": [],
   "source": [
    "def third_run():\n",
    "    main_count = 0\n",
    "    for i in range(0, 200): \n",
    "        for j in range(0, 130):\n",
    "            if math.sqrt((results[0][0][0]-i)**2 + (results[0][0][1]-j)**2)>dt and math.sqrt((results[1][0][0]-i)**2 + (results[1][0][1]-j)**2)>dt:\n",
    "                left_eye = img[i:i+25, j:j+25]\n",
    "                left_values = np.unique(left_eye)\n",
    "                if np.size(left_values) == n:\n",
    "                    for dist in range(45, 70):\n",
    "                        right_eye = img[i:i+25, j+dist:j+dist+25]\n",
    "                        if np.array_equal(left_values, np.unique(right_eye)):\n",
    "                            count = score(left_eye, right_eye)\n",
    "                            if count > main_count:\n",
    "                                main_count = count\n",
    "                                print([i,j], [i,j+dist], count)\n",
    "\n",
    "                                # storing the result\n",
    "                                results[2] = [[i,j],[i,j+dist]]"
   ]
  },
  {
   "cell_type": "code",
   "execution_count": null,
   "metadata": {},
   "outputs": [],
   "source": [
    "path = r'C:\\Users\\MAHE\\Desktop\\*.jpg'\n",
    "\n",
    "addrs = glob.glob(path)\n",
    "print(addrs)\n",
    "\n",
    "results = [ [[0,0],[0,0]], [[0,0],[0,0]], [[0,0],[0,0]] ]\n",
    "\n",
    "# number of unique values\n",
    "n = 5\n",
    "\n",
    "# distance threshold\n",
    "dt = 40\n",
    "\n",
    "for addr in addrs:\n",
    "    img = load_image(addr)\n",
    "    first_run()\n",
    "    print('first run done !')\n",
    "    second_run()\n",
    "    print('second run done !')\n",
    "    third_run()\n",
    "    print('third run done !')\n",
    "    print(results)"
   ]
  },
  {
   "cell_type": "code",
   "execution_count": null,
   "metadata": {},
   "outputs": [],
   "source": []
  }
 ],
 "metadata": {
  "kernelspec": {
   "display_name": "Python 3",
   "language": "python",
   "name": "python3"
  },
  "language_info": {
   "codemirror_mode": {
    "name": "ipython",
    "version": 3
   },
   "file_extension": ".py",
   "mimetype": "text/x-python",
   "name": "python",
   "nbconvert_exporter": "python",
   "pygments_lexer": "ipython3",
   "version": "3.5.5"
  }
 },
 "nbformat": 4,
 "nbformat_minor": 2
}

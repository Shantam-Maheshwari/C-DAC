{
 "cells": [
  {
   "cell_type": "code",
   "execution_count": 1,
   "metadata": {},
   "outputs": [],
   "source": [
    "import tensorflow as tf\n",
    "import cv2\n",
    "import numpy as np\n",
    "import glob\n",
    "import matplotlib.pyplot as plt\n",
    "import matplotlib.image as mpimg\n",
    "import math"
   ]
  },
  {
   "cell_type": "code",
   "execution_count": 2,
   "metadata": {},
   "outputs": [],
   "source": [
    "def load_image(addr):\n",
    "    img = cv2.imread(addr, 0) \n",
    "    img = cv2.resize(img, (224,224))\n",
    "    img = img.astype(np.int32)\n",
    "    return img"
   ]
  },
  {
   "cell_type": "code",
   "execution_count": 3,
   "metadata": {},
   "outputs": [
    {
     "name": "stdout",
     "output_type": "stream",
     "text": [
      "['C:\\\\Users\\\\MAHE\\\\Desktop\\\\1.jpg', 'C:\\\\Users\\\\MAHE\\\\Desktop\\\\2.jpg', 'C:\\\\Users\\\\MAHE\\\\Desktop\\\\3.jpg', 'C:\\\\Users\\\\MAHE\\\\Desktop\\\\4.jpg', 'C:\\\\Users\\\\MAHE\\\\Desktop\\\\5 - Copy.jpg', 'C:\\\\Users\\\\MAHE\\\\Desktop\\\\5.jpg']\n"
     ]
    }
   ],
   "source": [
    "path = r'C:\\Users\\MAHE\\Desktop\\*.jpg'\n",
    "\n",
    "addrs = glob.glob(path)\n",
    "print(addrs)\n",
    "\n",
    "img1 = load_image(addrs[0])\n",
    "\n",
    "img2 = load_image(addrs[3])\n",
    "\n",
    "#coordinates of upper left corner of img1's left eye\n",
    "x1 = 101\n",
    "y1 = 58\n",
    "\n",
    "#distance between img1's eyes\n",
    "img1_dist = 71\n",
    "\n",
    "#img1's left eye\n",
    "img1_eye_left = img1[x1:x1+25, y1:y1+25]\n",
    "\n",
    "#img1's right eye\n",
    "img1_eye_right = img1[x1:x1+25, y1+img1_dist:y1+img1_dist+25]"
   ]
  },
  {
   "cell_type": "code",
   "execution_count": 4,
   "metadata": {},
   "outputs": [
    {
     "name": "stdout",
     "output_type": "stream",
     "text": [
      "[[0, 0, 0, 0], [0, 0, 0, 0], [0, 0, 0, 0]]\n"
     ]
    }
   ],
   "source": [
    "results = [ [0,0,0,0]]*3\n",
    "print(results)"
   ]
  },
  {
   "cell_type": "code",
   "execution_count": 5,
   "metadata": {},
   "outputs": [
    {
     "name": "stdout",
     "output_type": "stream",
     "text": [
      "11 0 60 10 30\n",
      "11 2 58 10 32\n",
      "11 3 57 10 33\n",
      "11 14 46 10 34\n",
      "12 5 55 10 36\n",
      "14 5 55 8 37\n",
      "15 5 55 7 39\n",
      "16 69 56 -3 40\n",
      "18 64 61 -5 41\n",
      "19 63 62 -6 42\n",
      "20 62 63 -7 43\n",
      "21 64 61 -8 46\n"
     ]
    }
   ],
   "source": [
    "'''FIRST RUN OF THE ALGO'''\n",
    "\n",
    "img2_eye_left = img2[0:25, 0:25]\n",
    "left_count_main = 0\n",
    "\n",
    "total_count_main = 0\n",
    "\n",
    "\n",
    "# (i, j) is the upper left corner of temp_left in img2\n",
    "for i in range(11,190):\n",
    "    for j in range(130):\n",
    "        \n",
    "        temp_left = img2[i:i+25, j:j+25]\n",
    "        left_count = 0\n",
    "        \n",
    "        #for upper half of the left eye\n",
    "        for k in range(0,13):\n",
    "            for l in range(12-int(k/2), 12+int(k/2)+1):\n",
    "                if img1_eye_left[k,l] in range(temp_left[k,l]-5, temp_left[k,l]+5):\n",
    "                    left_count += 1\n",
    "                           \n",
    "        #for lower half of the left eye\n",
    "        for k in range(13,25):\n",
    "            for l in range(int(k/2), 25-int(k/2)):\n",
    "                if img1_eye_left[k,l] in range(temp_left[k,l]-5, temp_left[k,l]+5):\n",
    "                    left_count += 1\n",
    "\n",
    "        \n",
    "        if left_count > left_count_main :\n",
    "            \n",
    "            '''FOR A BETTER LEFT EYE'''    \n",
    "            right_count_main = 0\n",
    "            \n",
    "            # img2_dist in range 45-70\n",
    "            for img2_dist in range(45,70):\n",
    "                for img2_height in range(-10, 11):\n",
    "                    temp_right = img2[i+img2_height:i+img2_height+25, j+img2_dist:j+img2_dist+25]\n",
    "                    right_count = 0\n",
    "\n",
    "                    #for upper half of the right eye\n",
    "                    for k in range(0,13):\n",
    "                        for l in range(12-int(k/2), 12+int(k/2)+1):\n",
    "                            if img1_eye_right[k,l] in range(temp_right[k,l]-5, temp_right[k,l]+5):\n",
    "                                right_count += 1\n",
    "\n",
    "                    #for lower half of the right eye\n",
    "                    for k in range(13,25):\n",
    "                        for l in range(int(k/2), 25-int(k/2)): \n",
    "                            if img1_eye_right[k,l] in range(temp_right[k,l]-5, temp_right[k,l]+5):\n",
    "                                right_count += 1\n",
    "\n",
    "                    if right_count > right_count_main:\n",
    "                        right_count_main = right_count # storing the best count and its position (distance)\n",
    "                        img2_dist_main = img2_dist\n",
    "                        img2_height_main = img2_height\n",
    "                    \n",
    "            '''WE GET THE BEST RIGHT EYE'''\n",
    "            total_count = left_count + right_count_main\n",
    "            \n",
    "            '''IF WE GET A BETTER TOTAL COUNT'''\n",
    "            if total_count > total_count_main:\n",
    "                total_count_main = total_count\n",
    "                left_count_main = left_count\n",
    "                x2_1 = i\n",
    "                y2_1 = j\n",
    "                print(x2_1, y2_1, img2_dist_main, img2_height_main, total_count)\n",
    "\n",
    "results[0] = [x2_1, y2_1, x2_1+img2_height_main, y2_1+img2_dist_main]"
   ]
  },
  {
   "cell_type": "code",
   "execution_count": 6,
   "metadata": {},
   "outputs": [
    {
     "name": "stdout",
     "output_type": "stream",
     "text": [
      "11 0 60 10 30\n",
      "11 2 60 10 32\n",
      "11 3 60 10 33\n",
      "11 14 60 10 34\n",
      "11 118 60 10 36\n",
      "13 116 60 10 38\n",
      "31 114 60 10 41\n",
      "67 90 53 -9 45\n",
      "67 94 53 -9 47\n",
      "71 43 53 -9 49\n",
      "71 93 53 -9 50\n",
      "73 43 53 -9 53\n",
      "152 94 53 -9 57\n",
      "153 94 53 -9 58\n"
     ]
    }
   ],
   "source": [
    "'''SECOND RUN OF THE ALGO'''\n",
    "\n",
    "img2_eye_left = img2[0:25, 0:25]\n",
    "left_count_main = 0\n",
    "\n",
    "total_count_main = 0\n",
    "\n",
    "#distane threshold\n",
    "dt = 50\n",
    "\n",
    "# (i, j) is the upper left corner of temp_left in img2\n",
    "for i in range(11,190):\n",
    "    for j in range(130):\n",
    "        if math.sqrt( (results[0][0]-i)**2 + (results[0][1]-j)**2 ) > dt:\n",
    "            temp_left = img2[i:i+25, j:j+25]\n",
    "            left_count = 0\n",
    "\n",
    "            #for upper half of the left eye\n",
    "            for k in range(0,13):\n",
    "                for l in range(12-int(k/2), 12+int(k/2)+1):\n",
    "                    if img1_eye_left[k,l] in range(temp_left[k,l]-5, temp_left[k,l]+5):\n",
    "                        left_count += 1\n",
    "\n",
    "            #for lower half of the left eye\n",
    "            for k in range(13,25):\n",
    "                for l in range(int(k/2), 25-int(k/2)):\n",
    "                    if img1_eye_left[k,l] in range(temp_left[k,l]-5, temp_left[k,l]+5):\n",
    "                        left_count += 1\n",
    "\n",
    "\n",
    "            if left_count > left_count_main :\n",
    "\n",
    "                '''FOR A BETTER LEFT EYE'''    \n",
    "                for img2_dist in range(45,70):\n",
    "                    for img2_height in range(-10, 11):\n",
    "                        temp_right = img2[i+img2_height:i+img2_height+25, j+img2_dist:j+img2_dist+25]\n",
    "                        right_count = 0\n",
    "\n",
    "                        #for upper half of the right eye\n",
    "                        for k in range(0,13):\n",
    "                            for l in range(12-int(k/2), 12+int(k/2)+1):\n",
    "                                if img1_eye_right[k,l] in range(temp_right[k,l]-5, temp_right[k,l]+5):\n",
    "                                    right_count += 1\n",
    "\n",
    "                        #for lower half of the right eye\n",
    "                        for k in range(13,25):\n",
    "                            for l in range(int(k/2), 25-int(k/2)): \n",
    "                                if img1_eye_right[k,l] in range(temp_right[k,l]-5, temp_right[k,l]+5):\n",
    "                                    right_count += 1\n",
    "\n",
    "                        if right_count > right_count_main:\n",
    "                            right_count_main = right_count # storing the best count and its position (distance)\n",
    "                            img2_dist_main = img2_dist\n",
    "                            img2_height_main = img2_height\n",
    "\n",
    "                '''WE GET THE BEST RIGHT EYE'''\n",
    "                total_count = left_count + right_count_main\n",
    "\n",
    "                '''IF WE GET A BETTER TOTAL COUNT'''\n",
    "                if total_count > total_count_main:\n",
    "                    total_count_main = total_count\n",
    "                    left_count_main = left_count\n",
    "                    x2_2 = i\n",
    "                    y2_2 = j\n",
    "                    print(x2_2, y2_2, img2_dist_main, img2_height_main, total_count)\n",
    "\n",
    "results[1] = [x2_2, y2_2, x2_2+img2_height_main, y2_2+img2_dist_main]"
   ]
  },
  {
   "cell_type": "code",
   "execution_count": 7,
   "metadata": {},
   "outputs": [
    {
     "name": "stdout",
     "output_type": "stream",
     "text": [
      "11 0 53 -9 33\n",
      "11 2 53 -9 35\n",
      "11 3 53 -9 36\n",
      "11 14 53 -9 37\n",
      "11 118 53 -9 39\n",
      "13 116 53 -9 41\n",
      "31 114 53 -9 44\n",
      "67 90 53 -9 45\n",
      "67 94 53 -9 47\n",
      "71 43 53 -9 49\n",
      "71 93 53 -9 50\n",
      "73 43 53 -9 53\n"
     ]
    }
   ],
   "source": [
    "'''THIRD RUN OF THE ALGO'''\n",
    "\n",
    "img2_eye_left = img2[0:25, 0:25]\n",
    "left_count_main = 0\n",
    "\n",
    "total_count_main = 0\n",
    "\n",
    "# (i, j) is the upper left corner of temp_left in img2\n",
    "for i in range(11,190):\n",
    "    for j in range(130):\n",
    "        if math.sqrt((results[0][0]-i)**2 + (results[0][1]-j)**2)>dt and math.sqrt((results[1][0]-i)**2 + (results[1][1]-j)**2)>dt:\n",
    "            temp_left = img2[i:i+25, j:j+25]\n",
    "            left_count = 0\n",
    "\n",
    "            #for upper half of the left eye\n",
    "            for k in range(0,13):\n",
    "                for l in range(12-int(k/2), 12+int(k/2)+1):\n",
    "                    if img1_eye_left[k,l] in range(temp_left[k,l]-5, temp_left[k,l]+5):\n",
    "                        left_count += 1\n",
    "\n",
    "            #for lower half of the left eye\n",
    "            for k in range(13,25):\n",
    "                for l in range(int(k/2), 25-int(k/2)):\n",
    "                    if img1_eye_left[k,l] in range(temp_left[k,l]-5, temp_left[k,l]+5):\n",
    "                        left_count += 1\n",
    "\n",
    "\n",
    "            if left_count > left_count_main :\n",
    "\n",
    "                '''FOR A BETTER LEFT EYE'''    \n",
    "                for img2_dist in range(45,70):\n",
    "                    for img2_height in range(-10, 11):\n",
    "                        temp_right = img2[i+img2_height:i+img2_height+25, j+img2_dist:j+img2_dist+25]\n",
    "                        right_count = 0\n",
    "\n",
    "                        #for upper half of the right eye\n",
    "                        for k in range(0,13):\n",
    "                            for l in range(12-int(k/2), 12+int(k/2)+1):\n",
    "                                if img1_eye_right[k,l] in range(temp_right[k,l]-5, temp_right[k,l]+5):\n",
    "                                    right_count += 1\n",
    "\n",
    "                        #for lower half of the right eye\n",
    "                        for k in range(13,25):\n",
    "                            for l in range(int(k/2), 25-int(k/2)): \n",
    "                                if img1_eye_right[k,l] in range(temp_right[k,l]-5, temp_right[k,l]+5):\n",
    "                                    right_count += 1\n",
    "\n",
    "                        if right_count > right_count_main:\n",
    "                            right_count_main = right_count # storing the best count and its position (distance)\n",
    "                            img2_dist_main = img2_dist\n",
    "                            img2_height_main = img2_height\n",
    "\n",
    "                '''WE GET THE BEST RIGHT EYE'''\n",
    "                total_count = left_count + right_count_main\n",
    "\n",
    "                '''IF WE GET A BETTER TOTAL COUNT'''\n",
    "                if total_count > total_count_main:\n",
    "                    total_count_main = total_count\n",
    "                    left_count_main = left_count\n",
    "                    x2_3 = i\n",
    "                    y2_3 = j\n",
    "                    print(x2_3, y2_3, img2_dist_main, img2_height_main, total_count)\n",
    "\n",
    "results[2] = [x2_3, y2_3, x2_3+img2_height_main, y2_3+img2_dist_main]"
   ]
  },
  {
   "cell_type": "code",
   "execution_count": 8,
   "metadata": {},
   "outputs": [
    {
     "name": "stdout",
     "output_type": "stream",
     "text": [
      "[[21, 64, 13, 125], [153, 94, 144, 147], [73, 43, 64, 96]]\n"
     ]
    }
   ],
   "source": [
    "'''TOP 3 RESULTS'''\n",
    "print(results)"
   ]
  },
  {
   "cell_type": "code",
   "execution_count": 9,
   "metadata": {},
   "outputs": [],
   "source": [
    "'''6X6'''\n",
    "\n",
    "# returns score of one eye\n",
    "def score1(eye):\n",
    "    main_count = 0\n",
    "    \n",
    "    for i in range(0,22):\n",
    "        for j in range(0,22):\n",
    "            \n",
    "            # initializing count to zero\n",
    "            count = 0\n",
    "            \n",
    "            # finding border box\n",
    "            if (eye[i, j:j+4]==[0,0,0,0]).all():\n",
    "                if (eye[i+3, j:j+4]==[0,0,0,0]).all():\n",
    "                    if (eye[i+1:i+3, j]==[[0],[0]]).all():\n",
    "                        if (eye[i+1:i+3, j+3]==[[0],[0]]).all():\n",
    "                            \n",
    "                            # sum of values of middle square\n",
    "                            count += eye[i+2][j+2] + eye[i+2][j+3] + eye[i+3][j+2] + eye[i+3][j+3]\n",
    "                            if count > main_count:\n",
    "                                main_count = count\n",
    "    return main_count      "
   ]
  },
  {
   "cell_type": "code",
   "execution_count": 10,
   "metadata": {},
   "outputs": [],
   "source": [
    "'''4X4'''\n",
    "# returns score of one eye\n",
    "def score2(eye):\n",
    "    main_count = 0\n",
    "    \n",
    "    for i in range(0,20):\n",
    "        for j in range(0,20):\n",
    "            \n",
    "            # initializing count to zero\n",
    "            count = 0\n",
    "            \n",
    "            # finding border box\n",
    "            if np.array_equal(eye[i:i+2, j:j+6],[[0,0,0,0,0,0],[0,0,0,0,0,0]]):\n",
    "                if np.array_equal(eye[i+4:i+6, j:j+6],[[0,0,0,0,0,0],[0,0,0,0,0,0]]):\n",
    "                    if np.array_equal(eye[i+2:i+4, j:j+2],[[0,0],[0,0]]):\n",
    "                        if np.array_equal(eye[i+2:i+4, j+4:j+6],[[0,0],[0,0]]):\n",
    "                            \n",
    "                            # sum of values of middle square\n",
    "                            count += eye[i+2][j+2] + eye[i+2][j+3] + eye[i+3][j+2] + eye[i+3][j+3]\n",
    "                            if count > main_count:\n",
    "                                main_count = count\n",
    "    return main_count      "
   ]
  },
  {
   "cell_type": "code",
   "execution_count": 11,
   "metadata": {},
   "outputs": [],
   "source": [
    "'''sum of pixel values'''\n",
    "def score3(eye):\n",
    "    return np.sum(eye)"
   ]
  },
  {
   "cell_type": "code",
   "execution_count": 12,
   "metadata": {},
   "outputs": [],
   "source": [
    "# returns sum of scores of both eyes\n",
    "def total_score(i, j, k, l):\n",
    "    # convert 256 grayscale to 4 grayscale\n",
    "    eye_left = img2[i:i+25, j:j+25]\n",
    "    eye_left = eye_left//64\n",
    "    \n",
    "    eye_right = img2[k:k+25, l:l+25]\n",
    "    eye_right = eye_right//64\n",
    "    \n",
    "    return score3(eye_left) + score3(eye_right)"
   ]
  },
  {
   "cell_type": "code",
   "execution_count": 13,
   "metadata": {},
   "outputs": [
    {
     "name": "stdout",
     "output_type": "stream",
     "text": [
      "1631\n",
      "766\n",
      "1870\n"
     ]
    }
   ],
   "source": [
    "for result in results:\n",
    "    print( total_score(result[0], result[1], result[2], result[3]) )"
   ]
  },
  {
   "cell_type": "code",
   "execution_count": null,
   "metadata": {},
   "outputs": [],
   "source": []
  }
 ],
 "metadata": {
  "kernelspec": {
   "display_name": "Python 3",
   "language": "python",
   "name": "python3"
  },
  "language_info": {
   "codemirror_mode": {
    "name": "ipython",
    "version": 3
   },
   "file_extension": ".py",
   "mimetype": "text/x-python",
   "name": "python",
   "nbconvert_exporter": "python",
   "pygments_lexer": "ipython3",
   "version": "3.5.5"
  }
 },
 "nbformat": 4,
 "nbformat_minor": 2
}

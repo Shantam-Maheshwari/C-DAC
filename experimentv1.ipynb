{
 "cells": [
  {
   "cell_type": "code",
   "execution_count": 1,
   "metadata": {},
   "outputs": [],
   "source": [
    "import tensorflow as tf\n",
    "import cv2\n",
    "import numpy as np\n",
    "import glob\n",
    "import matplotlib.pyplot as plt\n",
    "import matplotlib.image as mpimg"
   ]
  },
  {
   "cell_type": "code",
   "execution_count": 2,
   "metadata": {},
   "outputs": [],
   "source": [
    "def load_image(addr):\n",
    "    img = cv2.imread(addr, 0)    \n",
    "    img = img.astype(np.int32)\n",
    "    return img"
   ]
  },
  {
   "cell_type": "code",
   "execution_count": 3,
   "metadata": {},
   "outputs": [
    {
     "name": "stdout",
     "output_type": "stream",
     "text": [
      "['C:\\\\Users\\\\MAHE\\\\Desktop\\\\1.jpg', 'C:\\\\Users\\\\MAHE\\\\Desktop\\\\2.jpg']\n"
     ]
    }
   ],
   "source": [
    "path = r'C:\\Users\\MAHE\\Desktop\\*.jpg'\n",
    "\n",
    "addrs = glob.glob(path)\n",
    "print(addrs)\n",
    "\n",
    "img1 = load_image(addrs[0])\n",
    "\n",
    "img2 = load_image(addrs[1])\n",
    "\n",
    "#coordinates of upper left corner of img1's left eye\n",
    "x1 = 101\n",
    "y1 = 58\n",
    "\n",
    "#distance between img1's eyes\n",
    "img1_dist = 71\n",
    "\n",
    "#distance between img2's eyes\n",
    "img2_dist = 61\n",
    "\n",
    "#img1's left eye\n",
    "img1_eye_left = img1[x1:x1+25, y1:y1+25]\n",
    "\n",
    "#img1's right eye\n",
    "img1_eye_right = img1[x1:x1+25, y1+img1_dist:y1+img1_dist+25]"
   ]
  },
  {
   "cell_type": "code",
   "execution_count": 4,
   "metadata": {},
   "outputs": [
    {
     "name": "stdout",
     "output_type": "stream",
     "text": [
      "0 0 6\n",
      "0 5 10\n",
      "0 22 14\n",
      "0 44 16\n",
      "0 45 21\n",
      "0 94 26\n",
      "0 97 34\n",
      "0 105 36\n",
      "0 113 37\n",
      "0 114 42\n",
      "1 115 46\n",
      "4 110 55\n",
      "9 112 56\n"
     ]
    }
   ],
   "source": [
    "img2_eye_left = img2[0:25, 0:25]\n",
    "img2_eye_right = img2[0:25, img2_dist:img2_dist+25]\n",
    "\n",
    "main_count = 0\n",
    "\n",
    "# (i, j) is the upper left corner of temp_left in img2\n",
    "for i in range(200):\n",
    "    for j in range(139):\n",
    "        count = 0\n",
    "        \n",
    "        temp_left = img2[i:i+25, j:j+25]\n",
    "        temp_right = img2[i:i+25, j+img2_dist:j+25+img2_dist]\n",
    "        \n",
    "        #for upper half of the eyes\n",
    "        for k in range(0,13):\n",
    "            for l in range(12-int(k/2), 12+int(k/2)+1):\n",
    "                \n",
    "                #comparing left eyes\n",
    "                if img1_eye_left[k,l] in range(temp_left[k,l]-5, temp_left[k,l]+5):\n",
    "                    count += 1\n",
    "                    \n",
    "                #comparing right eyes    \n",
    "                if img1_eye_right[k,l] in range(temp_right[k,l]-5, temp_right[k,l]+5):\n",
    "                    count += 1\n",
    "        \n",
    "        #for lower half of the eyes\n",
    "        for k in range(13,25):\n",
    "            for l in range(int(k/2), 25-int(k/2)):\n",
    "                \n",
    "                #comparing left eyes\n",
    "                if img1_eye_left[k,l] in range(temp_left[k,l]-5, temp_left[k,l]+5):\n",
    "                    count += 1\n",
    "                    \n",
    "                #comparing right eyes    \n",
    "                if img1_eye_right[k,l] in range(temp_right[k,l]-5, temp_right[k,l]+5):\n",
    "                    count += 1\n",
    "\n",
    "        if count > main_count :\n",
    "            img2_eye_left = temp_left\n",
    "            img2_eye_right = temp_right\n",
    "            main_count = count\n",
    "            print(i,j, main_count)           \n",
    "            "
   ]
  },
  {
   "cell_type": "code",
   "execution_count": 9,
   "metadata": {},
   "outputs": [
    {
     "name": "stdout",
     "output_type": "stream",
     "text": [
      "29\n"
     ]
    }
   ],
   "source": [
    "\n",
    "      # ACTUAL POSITION IN IMAGE 2\n",
    "'''__________________________________'''\n",
    "img2_actual_left = img2[8:8+25, 49:49+25]\n",
    "img2_actual_right = img2[8:8+25, 49+img2_dist:49+img2_dist+25]\n",
    "\n",
    "count = 0\n",
    "\n",
    "#for upper half of the eyes\n",
    "for k in range(0,13):\n",
    "    for l in range(12-int(k/2), 12+int(k/2)+1):\n",
    "\n",
    "        #comparing left eyes\n",
    "        if img1_eye_left[k,l] in range(img2_actual_left[k,l]-5, img2_actual_left[k,l]+5):\n",
    "            count += 1\n",
    "\n",
    "        #comparing right eyes    \n",
    "        if img1_eye_right[k,l] in range(img2_actual_right[k,l]-5, img2_actual_right[k,l]+5):\n",
    "            count += 1\n",
    "\n",
    "#for lower half of the eyes\n",
    "for k in range(13,25):\n",
    "    for l in range(int(k/2), 25-int(k/2)):\n",
    "\n",
    "        #comparing left eyes\n",
    "        if img1_eye_left[k,l] in range(img2_actual_left[k,l]-5, img2_actual_left[k,l]+5):\n",
    "            count += 1\n",
    "\n",
    "        #comparing right eyes    \n",
    "        if img1_eye_right[k,l] in range(img2_actual_right[k,l]-5, img2_actual_right[k,l]+5):\n",
    "            count += 1\n",
    "\n",
    "print(count)"
   ]
  },
  {
   "cell_type": "code",
   "execution_count": null,
   "metadata": {},
   "outputs": [],
   "source": [
    "'''work in progress!!!'''\n",
    "\n",
    "# We'll cluster and store best 3 results as a list of 3 lists [ [i,j], [i,j], [i,j] ]\n",
    "results = \n",
    "\n",
    "counts = [0]*3 \n",
    "\n",
    "for result in results:\n",
    "    for x in range(25):\n",
    "        for y in range(10):\n",
    "            i = result[0]\n",
    "            j = result[1]\n",
    "            if img2[i+x, j-y] in range(img2[i+x, j+25+img2_dist+y]-5, img2[i+x, j+25+img2_dist+y]+5):\n",
    "                count"
   ]
  },
  {
   "cell_type": "code",
   "execution_count": null,
   "metadata": {},
   "outputs": [],
   "source": []
  }
 ],
 "metadata": {
  "kernelspec": {
   "display_name": "Python 3",
   "language": "python",
   "name": "python3"
  },
  "language_info": {
   "codemirror_mode": {
    "name": "ipython",
    "version": 3
   },
   "file_extension": ".py",
   "mimetype": "text/x-python",
   "name": "python",
   "nbconvert_exporter": "python",
   "pygments_lexer": "ipython3",
   "version": "3.5.5"
  }
 },
 "nbformat": 4,
 "nbformat_minor": 2
}
